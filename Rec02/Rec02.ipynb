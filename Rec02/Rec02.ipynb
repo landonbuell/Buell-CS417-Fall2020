{
 "cells": [
  {
   "cell_type": "code",
   "execution_count": 2,
   "metadata": {},
   "outputs": [
    {
     "name": "stdout",
     "output_type": "stream",
     "text": [
      "fgfFalse\n"
     ]
    }
   ],
   "source": [
    "def f(x, y):\n",
    "    print (\"f\", end=\"\") #← don’t\tmiss\tthis\tprint\tstatement!\n",
    "    return (x > y)\n",
    "def g(x, y):\n",
    "    print (\"g\", end=\"\")\n",
    "    return (x > 2*y)\n",
    "print (f(1, 0) and g(-1, -2) and f(3, 4) and g(5, 6))"
   ]
  },
  {
   "cell_type": "code",
   "execution_count": 23,
   "metadata": {},
   "outputs": [
    {
     "name": "stdout",
     "output_type": "stream",
     "text": [
      "6\n",
      "6\n",
      "22\n"
     ]
    }
   ],
   "source": [
    "print(6 % 10)\n",
    "print(16 % 10)\n",
    "print(16 + 6)"
   ]
  },
  {
   "cell_type": "code",
   "execution_count": 22,
   "metadata": {},
   "outputs": [
    {
     "data": {
      "text/plain": [
       "False"
      ]
     },
     "execution_count": 22,
     "metadata": {},
     "output_type": "execute_result"
    }
   ],
   "source": [
    "def f( x, y ):\n",
    "    return( (type(x) == type(y) == int) and\n",
    "            (100 > x > y > 0) and\n",
    "            (x/10 + x%10 + y/10 + y%10 < 5) and\n",
    "            (x % 10 == y % 10) and\n",
    "            (x + y == 22))\n",
    "           \n",
    "f(16,6)"
   ]
  },
  {
   "cell_type": "code",
   "execution_count": 13,
   "metadata": {},
   "outputs": [],
   "source": [
    "lines = [[\"one\",\"ein\"],\n",
    "[\"two\",\"zwei\"],\n",
    "[\"three\",\"drei\"],\n",
    "[\"four\", \"vier\"],\n",
    "[\"five\",\"funf\"],\n",
    "[\"six\",\"sechs\"]]"
   ]
  },
  {
   "cell_type": "code",
   "execution_count": 14,
   "metadata": {},
   "outputs": [
    {
     "name": "stdout",
     "output_type": "stream",
     "text": [
      "threeonefivesixfourtwo\n"
     ]
    }
   ],
   "source": [
    "\n",
    "ger_num = dict()\n",
    "for line in lines:\n",
    "    eng, ger = line[0],line[1]\n",
    "    ger_num[eng] = ger\n",
    "    \n",
    "eng_num = dict()\n",
    "for x in ger_num:\n",
    "    ger = ger_num[x]\n",
    "    eng_num[ger] = x\n",
    "    \n",
    "for x in sorted(eng_num.keys()):\n",
    "     print (eng_num[x], end=\"\")\n",
    "print()"
   ]
  },
  {
   "cell_type": "code",
   "execution_count": 8,
   "metadata": {},
   "outputs": [],
   "source": [
    "lines = \\\n",
    "[[\"apple\",\"cherry\",\"banana\",\"apple\"],\n",
    "[\"plum\",\"cherry\",\"banana\"],\n",
    "[\"apple\",\"orange\", \"apple\"],\n",
    "[\"banana\",\"plum\",\"orange\"],\n",
    "[\"papaya\"]]"
   ]
  },
  {
   "cell_type": "code",
   "execution_count": 12,
   "metadata": {},
   "outputs": [
    {
     "name": "stdout",
     "output_type": "stream",
     "text": [
      "apple 4\n",
      "banana 3\n",
      "cherry 2\n",
      "orange 2\n",
      "papaya 1\n",
      "plum 2\n"
     ]
    }
   ],
   "source": [
    "\n",
    "\n",
    "words = []\n",
    "for line in lines:\n",
    "    for x in line:\n",
    "        words.append(x)\n",
    "        \n",
    "counts = dict()\n",
    "for word in words:\n",
    "    if word not in counts:\n",
    "        counts[word] = 0\n",
    "    counts[word] += 1\n",
    "    \n",
    "for k in sorted(counts.keys()):\n",
    "     print (k, counts[k])"
   ]
  },
  {
   "cell_type": "code",
   "execution_count": null,
   "metadata": {},
   "outputs": [],
   "source": []
  }
 ],
 "metadata": {
  "kernelspec": {
   "display_name": "Python 3",
   "language": "python",
   "name": "python3"
  },
  "language_info": {
   "codemirror_mode": {
    "name": "ipython",
    "version": 3
   },
   "file_extension": ".py",
   "mimetype": "text/x-python",
   "name": "python",
   "nbconvert_exporter": "python",
   "pygments_lexer": "ipython3",
   "version": "3.8.1"
  }
 },
 "nbformat": 4,
 "nbformat_minor": 4
}
